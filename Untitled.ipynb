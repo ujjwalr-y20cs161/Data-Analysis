{
 "cells": [
  {
   "cell_type": "code",
   "execution_count": 13,
   "id": "520d9b83",
   "metadata": {},
   "outputs": [],
   "source": [
    "import numpy as np\n",
    "import pandas as pd\n",
    "\n",
    "filePath = \"D:\\\\Settings\\\\winequality-red.csv\""
   ]
  },
  {
   "cell_type": "code",
   "execution_count": 63,
   "id": "68d2cc4d",
   "metadata": {},
   "outputs": [
    {
     "name": "stdout",
     "output_type": "stream",
     "text": [
      "[[ 7.4    0.7    0.    ...  0.56   9.4    5.   ]\n",
      " [ 7.8    0.88   0.    ...  0.68   9.8    5.   ]\n",
      " [ 7.8    0.76   0.04  ...  0.65   9.8    5.   ]\n",
      " ...\n",
      " [ 6.3    0.51   0.13  ...  0.75  11.     6.   ]\n",
      " [ 5.9    0.645  0.12  ...  0.71  10.2    5.   ]\n",
      " [ 6.     0.31   0.47  ...  0.66  11.     6.   ]]\n"
     ]
    }
   ],
   "source": [
    "dataset = pd.read_csv(\"D:\\\\Settings\\\\winequality-red.csv\")\n",
    "\n",
    "wineData = np.genfromtxt(filePath,delimiter=\";\",skip_header = 1,dtype=np.float64)\n",
    "\n",
    "print(wineData)\n"
   ]
  },
  {
   "cell_type": "code",
   "execution_count": 18,
   "id": "489b8feb",
   "metadata": {},
   "outputs": [
    {
     "name": "stdout",
     "output_type": "stream",
     "text": [
      "The shape of the dataset is : (1599, 12)\n"
     ]
    }
   ],
   "source": [
    "print(f'The shape of the dataset is : {wineData.shape}')"
   ]
  },
  {
   "cell_type": "code",
   "execution_count": 24,
   "id": "842b158e",
   "metadata": {},
   "outputs": [
    {
     "name": "stdout",
     "output_type": "stream",
     "text": [
      "3rd row : \n",
      "[7.80e+00 7.60e-01 4.00e-02 2.30e+00 9.20e-02 1.50e+01 5.40e+01 9.97e-01\n",
      " 3.26e+00 6.50e-01 9.80e+00 5.00e+00]\n",
      "4th coloumn : \n",
      "[0.   0.   0.04 ... 0.13 0.12 0.47]\n"
     ]
    }
   ],
   "source": [
    "#3rd row print\n",
    "\n",
    "print(f'3rd row : \\n{wineData[2]}')\n",
    "\n",
    "#4th coloumn\n",
    "\n",
    "print(f\"4th coloumn : \\n{wineData[:,3]}\")\n"
   ]
  },
  {
   "cell_type": "code",
   "execution_count": 25,
   "id": "158829b2",
   "metadata": {},
   "outputs": [
    {
     "name": "stdout",
     "output_type": "stream",
     "text": [
      " 4 col first 3 : \n",
      "[1.9 2.6 2.3]\n"
     ]
    }
   ],
   "source": [
    "#  first 3 ele of 4th coloumn\n",
    "\n",
    "print(f\" 4 col first 3 : \\n{wineData[:3,4-1]}\")"
   ]
  },
  {
   "cell_type": "code",
   "execution_count": 26,
   "id": "2e0f349e",
   "metadata": {},
   "outputs": [
    {
     "name": "stdout",
     "output_type": "stream",
     "text": [
      "3rd Col : \n",
      "[0.   0.   0.04 ... 0.13 0.12 0.47]\n"
     ]
    }
   ],
   "source": [
    "#3rd col of each row\n",
    "\n",
    "print(f'3rd Col : \\n{wineData[:,3-1]}')"
   ]
  },
  {
   "cell_type": "code",
   "execution_count": 28,
   "id": "a86fcde5",
   "metadata": {},
   "outputs": [
    {
     "name": "stdout",
     "output_type": "stream",
     "text": [
      "4th row : \n",
      "[ 7.4     0.7     0.      1.9     0.076  11.     34.      0.9978  3.51\n",
      "  0.56    9.4     5.    ]\n"
     ]
    }
   ],
   "source": [
    "#4th row\n",
    "\n",
    "print(f\"4th row : \\n{wineData[4]}\")"
   ]
  },
  {
   "cell_type": "code",
   "execution_count": 29,
   "id": "4ec0cd14",
   "metadata": {},
   "outputs": [
    {
     "name": "stdout",
     "output_type": "stream",
     "text": [
      "[ 7.8     0.88    0.      2.6     0.098  25.     67.      0.9968  3.2\n",
      "  0.68    9.8     5.    ]\n",
      "[ 7.8     0.88    0.      2.6     0.098  10.     67.      0.9968  3.2\n",
      "  0.68    9.8     5.    ]\n"
     ]
    }
   ],
   "source": [
    "#wine 2,6 <-- 10\n",
    "\n",
    "print(wineData[1])\n",
    "wineData[2-1][6-1] = 10\n",
    "print(wineData[1])\n"
   ]
  },
  {
   "cell_type": "code",
   "execution_count": 31,
   "id": "48bdf344",
   "metadata": {},
   "outputs": [
    {
     "name": "stdout",
     "output_type": "stream",
     "text": [
      "[ 9.4  9.8  9.8 ... 11.  10.2 11. ]\n",
      "[666. 666. 666. ... 666. 666. 666.]\n"
     ]
    }
   ],
   "source": [
    "# slice <-- wine i, 10\n",
    "\n",
    "slice_ = wineData[:,10]\n",
    "\n",
    "print(slice_)\n",
    "\n",
    "slice_[:] = 666\n",
    "\n",
    "print(slice_)\n",
    "\n"
   ]
  },
  {
   "cell_type": "code",
   "execution_count": 32,
   "id": "c886dbdc",
   "metadata": {},
   "outputs": [
    {
     "name": "stdout",
     "output_type": "stream",
     "text": [
      "[[7.40e+00 7.00e-01 0.00e+00 ... 5.60e-01 6.66e+02 5.00e+00]\n",
      " [7.80e+00 8.80e-01 0.00e+00 ... 6.80e-01 6.66e+02 5.00e+00]\n",
      " [7.80e+00 7.60e-01 4.00e-02 ... 6.50e-01 6.66e+02 5.00e+00]\n",
      " ...\n",
      " [6.30e+00 5.10e-01 1.30e-01 ... 7.50e-01 6.66e+02 6.00e+00]\n",
      " [5.90e+00 6.45e-01 1.20e-01 ... 7.10e-01 6.66e+02 5.00e+00]\n",
      " [6.00e+00 3.10e-01 4.70e-01 ... 6.60e-01 6.66e+02 6.00e+00]]\n"
     ]
    }
   ],
   "source": [
    "# DISPLAY\n",
    "\n",
    "print(wineData)"
   ]
  },
  {
   "cell_type": "code",
   "execution_count": 42,
   "id": "a938833a",
   "metadata": {},
   "outputs": [
    {
     "name": "stdout",
     "output_type": "stream",
     "text": [
      " DataType of the data set is float64\n",
      "[[ 7.4    0.7    0.    ...  0.56   9.4    5.   ]\n",
      " [ 7.8    0.88   0.    ...  0.68   9.8    5.   ]\n",
      " [ 7.8    0.76   0.04  ...  0.65   9.8    5.   ]\n",
      " ...\n",
      " [ 6.3    0.51   0.13  ...  0.75  11.     6.   ]\n",
      " [ 5.9    0.645  0.12  ...  0.71  10.2    5.   ]\n",
      " [ 6.     0.31   0.47  ...  0.66  11.     6.   ]]\n",
      "[[ 7  0  0 ...  0  9  5]\n",
      " [ 7  0  0 ...  0  9  5]\n",
      " [ 7  0  0 ...  0  9  5]\n",
      " ...\n",
      " [ 6  0  0 ...  0 11  6]\n",
      " [ 5  0  0 ...  0 10  5]\n",
      " [ 6  0  0 ...  0 11  6]]\n",
      " DataType of the data set is int32\n"
     ]
    }
   ],
   "source": [
    "print(f' DataType of the data set is {wineData.dtype}')\n",
    "\n",
    "print(wineData)\n",
    "\n",
    "wineData = wineData.astype(int)\n",
    "\n",
    "print(wineData)\n",
    "\n",
    "print(f' DataType of the data set is {wineData.dtype}')"
   ]
  },
  {
   "cell_type": "code",
   "execution_count": 64,
   "id": "6c157507",
   "metadata": {},
   "outputs": [
    {
     "data": {
      "text/plain": [
       "array([15., 15., 15., ..., 16., 15., 16.])"
      ]
     },
     "execution_count": 64,
     "metadata": {},
     "output_type": "execute_result"
    }
   ],
   "source": [
    "#quality <- quality + 10]\n",
    "wineData[:,11]+=10\n",
    "wineData[:,11]"
   ]
  },
  {
   "cell_type": "code",
   "execution_count": 55,
   "id": "5db89824",
   "metadata": {},
   "outputs": [
    {
     "name": "stdout",
     "output_type": "stream",
     "text": [
      "sum of all : 161529\n",
      "sum of col : [12589    24     1  3350     0 25382 74301    81  4770    60 15969 25002]\n",
      "sum of row : [ 80 128 105 ... 107 111  99]\n"
     ]
    }
   ],
   "source": [
    "#sum of all ele\n",
    "print(\"sum of all :\",np.sum(wineData))\n",
    "#sum of coloumns\n",
    "print(\"sum of col :\",np.sum(wineData, axis = 0))\n",
    "#sum of rows\n",
    "print(\"sum of row :\",np.sum(wineData,axis = 1))"
   ]
  },
  {
   "cell_type": "code",
   "execution_count": 66,
   "id": "da489325",
   "metadata": {},
   "outputs": [
    {
     "name": "stdout",
     "output_type": "stream",
     "text": [
      "[15. 15. 15. ... 16. 15. 16.]\n",
      "[30. 30. 30. ... 32. 30. 32.]\n"
     ]
    }
   ],
   "source": [
    "#quality <- quality + quality\n",
    "print(wineData[:,11])\n",
    "\n",
    "wineData[:,11]+=wineData[:,11]\n",
    "\n",
    "print(wineData[:,11])\n",
    "\n"
   ]
  },
  {
   "cell_type": "code",
   "execution_count": null,
   "id": "82c01197",
   "metadata": {},
   "outputs": [],
   "source": []
  }
 ],
 "metadata": {
  "kernelspec": {
   "display_name": "Python 3 (ipykernel)",
   "language": "python",
   "name": "python3"
  },
  "language_info": {
   "codemirror_mode": {
    "name": "ipython",
    "version": 3
   },
   "file_extension": ".py",
   "mimetype": "text/x-python",
   "name": "python",
   "nbconvert_exporter": "python",
   "pygments_lexer": "ipython3",
   "version": "3.9.7"
  }
 },
 "nbformat": 4,
 "nbformat_minor": 5
}
