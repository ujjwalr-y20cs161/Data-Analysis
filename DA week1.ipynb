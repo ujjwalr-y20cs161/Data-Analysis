{
 "cells": [
  {
   "cell_type": "code",
   "execution_count": 1,
   "id": "520d9b83",
   "metadata": {},
   "outputs": [],
   "source": [
    "import numpy as np\n",
    "import pandas as pd\n",
    "\n",
    "filePath = \"Z:\\SEM5\\Data-Analysis-main\\winequality-red.csv\""
   ]
  },
  {
   "cell_type": "code",
   "execution_count": 28,
   "id": "68d2cc4d",
   "metadata": {},
   "outputs": [
    {
     "name": "stdout",
     "output_type": "stream",
     "text": [
      "[[ 7.4    0.7    0.    ...  0.56   9.4    5.   ]\n",
      " [ 7.8    0.88   0.    ...  0.68   9.8    5.   ]\n",
      " [ 7.8    0.76   0.04  ...  0.65   9.8    5.   ]\n",
      " ...\n",
      " [ 6.3    0.51   0.13  ...  0.75  11.     6.   ]\n",
      " [ 5.9    0.645  0.12  ...  0.71  10.2    5.   ]\n",
      " [ 6.     0.31   0.47  ...  0.66  11.     6.   ]]\n"
     ]
    }
   ],
   "source": [
    "# dataset = pd.read_csv(\"D:\\\\Settings\\\\winequality-red.csv\")\n",
    "\n",
    "wineData = np.genfromtxt(filePath,delimiter=\";\",skip_header = 1,dtype=np.float64)\n",
    "\n",
    "print(wineData)\n"
   ]
  },
  {
   "cell_type": "code",
   "execution_count": 3,
   "id": "489b8feb",
   "metadata": {},
   "outputs": [
    {
     "name": "stdout",
     "output_type": "stream",
     "text": [
      "The shape of the dataset is : (1599, 12)\n"
     ]
    }
   ],
   "source": [
    "print(f'The shape of the dataset is : {wineData.shape}')"
   ]
  },
  {
   "cell_type": "code",
   "execution_count": 4,
   "id": "842b158e",
   "metadata": {},
   "outputs": [
    {
     "name": "stdout",
     "output_type": "stream",
     "text": [
      "3rd row : \n",
      "[7.80e+00 7.60e-01 4.00e-02 2.30e+00 9.20e-02 1.50e+01 5.40e+01 9.97e-01\n",
      " 3.26e+00 6.50e-01 9.80e+00 5.00e+00]\n",
      "4th coloumn : \n",
      "[1.9 2.6 2.3 ... 2.3 2.  3.6]\n"
     ]
    }
   ],
   "source": [
    "#3rd row print\n",
    "\n",
    "print(f'3rd row : \\n{wineData[2]}')\n",
    "\n",
    "#4th coloumn\n",
    "\n",
    "print(f\"4th coloumn : \\n{wineData[:,3]}\")\n"
   ]
  },
  {
   "cell_type": "code",
   "execution_count": 5,
   "id": "158829b2",
   "metadata": {},
   "outputs": [
    {
     "name": "stdout",
     "output_type": "stream",
     "text": [
      " 4 col first 3 : \n",
      "[1.9 2.6 2.3]\n"
     ]
    }
   ],
   "source": [
    "#  first 3 ele of 4th coloumn\n",
    "\n",
    "print(f\" 4 col first 3 : \\n{wineData[:3,4-1]}\")"
   ]
  },
  {
   "cell_type": "code",
   "execution_count": 6,
   "id": "2e0f349e",
   "metadata": {},
   "outputs": [
    {
     "name": "stdout",
     "output_type": "stream",
     "text": [
      "3rd Col : \n",
      "[0.   0.   0.04 ... 0.13 0.12 0.47]\n"
     ]
    }
   ],
   "source": [
    "#3rd col of each row\n",
    "\n",
    "print(f'3rd Col : \\n{wineData[:,3-1]}')"
   ]
  },
  {
   "cell_type": "code",
   "execution_count": 7,
   "id": "a86fcde5",
   "metadata": {},
   "outputs": [
    {
     "name": "stdout",
     "output_type": "stream",
     "text": [
      "4th row : \n",
      "[ 7.4     0.7     0.      1.9     0.076  11.     34.      0.9978  3.51\n",
      "  0.56    9.4     5.    ]\n"
     ]
    }
   ],
   "source": [
    "#4th row\n",
    "\n",
    "print(f\"4th row : \\n{wineData[4]}\")"
   ]
  },
  {
   "cell_type": "code",
   "execution_count": 8,
   "id": "4ec0cd14",
   "metadata": {},
   "outputs": [
    {
     "name": "stdout",
     "output_type": "stream",
     "text": [
      "[ 7.8     0.88    0.      2.6     0.098  25.     67.      0.9968  3.2\n",
      "  0.68    9.8     5.    ]\n",
      "[ 7.8     0.88    0.      2.6     0.098  10.     67.      0.9968  3.2\n",
      "  0.68    9.8     5.    ]\n"
     ]
    }
   ],
   "source": [
    "#wine 2,6 <-- 10\n",
    "\n",
    "print(wineData[1])\n",
    "wineData[2-1][6-1] = 10\n",
    "print(wineData[1])\n"
   ]
  },
  {
   "cell_type": "code",
   "execution_count": 9,
   "id": "48bdf344",
   "metadata": {},
   "outputs": [
    {
     "name": "stdout",
     "output_type": "stream",
     "text": [
      "[ 9.4  9.8  9.8 ... 11.  10.2 11. ]\n",
      "[666. 666. 666. ... 666. 666. 666.]\n"
     ]
    }
   ],
   "source": [
    "# slice <-- wine i, 10\n",
    "\n",
    "slice_ = wineData[:,10]\n",
    "\n",
    "print(slice_)\n",
    "\n",
    "slice_[:] = 666\n",
    "\n",
    "print(slice_)\n",
    "\n"
   ]
  },
  {
   "cell_type": "code",
   "execution_count": 10,
   "id": "c886dbdc",
   "metadata": {},
   "outputs": [
    {
     "name": "stdout",
     "output_type": "stream",
     "text": [
      "[[7.40e+00 7.00e-01 0.00e+00 ... 5.60e-01 6.66e+02 5.00e+00]\n",
      " [7.80e+00 8.80e-01 0.00e+00 ... 6.80e-01 6.66e+02 5.00e+00]\n",
      " [7.80e+00 7.60e-01 4.00e-02 ... 6.50e-01 6.66e+02 5.00e+00]\n",
      " ...\n",
      " [6.30e+00 5.10e-01 1.30e-01 ... 7.50e-01 6.66e+02 6.00e+00]\n",
      " [5.90e+00 6.45e-01 1.20e-01 ... 7.10e-01 6.66e+02 5.00e+00]\n",
      " [6.00e+00 3.10e-01 4.70e-01 ... 6.60e-01 6.66e+02 6.00e+00]]\n"
     ]
    }
   ],
   "source": [
    "# DISPLAY\n",
    "\n",
    "print(wineData)"
   ]
  },
  {
   "cell_type": "code",
   "execution_count": 11,
   "id": "a938833a",
   "metadata": {},
   "outputs": [
    {
     "name": "stdout",
     "output_type": "stream",
     "text": [
      " DataType of the data set is float64\n",
      "[[7.40e+00 7.00e-01 0.00e+00 ... 5.60e-01 6.66e+02 5.00e+00]\n",
      " [7.80e+00 8.80e-01 0.00e+00 ... 6.80e-01 6.66e+02 5.00e+00]\n",
      " [7.80e+00 7.60e-01 4.00e-02 ... 6.50e-01 6.66e+02 5.00e+00]\n",
      " ...\n",
      " [6.30e+00 5.10e-01 1.30e-01 ... 7.50e-01 6.66e+02 6.00e+00]\n",
      " [5.90e+00 6.45e-01 1.20e-01 ... 7.10e-01 6.66e+02 5.00e+00]\n",
      " [6.00e+00 3.10e-01 4.70e-01 ... 6.60e-01 6.66e+02 6.00e+00]]\n",
      "[[  7   0   0 ...   0 666   5]\n",
      " [  7   0   0 ...   0 666   5]\n",
      " [  7   0   0 ...   0 666   5]\n",
      " ...\n",
      " [  6   0   0 ...   0 666   6]\n",
      " [  5   0   0 ...   0 666   5]\n",
      " [  6   0   0 ...   0 666   6]]\n",
      " DataType of the data set is int32\n"
     ]
    }
   ],
   "source": [
    "print(f' DataType of the data set is {wineData.dtype}')\n",
    "\n",
    "print(wineData)\n",
    "\n",
    "wineData = wineData.astype(int)\n",
    "\n",
    "print(wineData)\n",
    "\n",
    "print(f' DataType of the data set is {wineData.dtype}')"
   ]
  },
  {
   "cell_type": "code",
   "execution_count": 12,
   "id": "5db89824",
   "metadata": {
    "scrolled": true
   },
   "outputs": [
    {
     "name": "stdout",
     "output_type": "stream",
     "text": [
      "sum of all : 1194489\n",
      "sum of col : [  12589      24       1    3350       0   25367   74301      81    4770\n",
      "      60 1064934    9012]\n",
      "sum of row : [727 760 752 ... 752 757 744]\n"
     ]
    }
   ],
   "source": [
    "#sum of all ele\n",
    "print(\"sum of all :\",np.sum(wineData))\n",
    "#sum of coloumns\n",
    "print(\"sum of col :\",np.sum(wineData, axis = 0))\n",
    "#sum of rows\n",
    "print(\"sum of row :\",np.sum(wineData,axis = 1))"
   ]
  },
  {
   "cell_type": "code",
   "execution_count": 13,
   "id": "6c157507",
   "metadata": {},
   "outputs": [
    {
     "data": {
      "text/plain": [
       "array([15, 15, 15, ..., 16, 15, 16])"
      ]
     },
     "execution_count": 13,
     "metadata": {},
     "output_type": "execute_result"
    }
   ],
   "source": [
    "#quality <- quality + 10]\n",
    "wineData[:,11]+=10\n",
    "wineData[:,11]"
   ]
  },
  {
   "cell_type": "code",
   "execution_count": 22,
   "id": "da489325",
   "metadata": {},
   "outputs": [
    {
     "name": "stdout",
     "output_type": "stream",
     "text": [
      "[5. 5. 5. ... 6. 5. 6.]\n",
      "[10. 10. 10. ... 12. 10. 12.]\n"
     ]
    }
   ],
   "source": [
    "#quality <- quality + quality\n",
    "print(wineData[:,11])\n",
    "\n",
    "wineData[:,11]+=wineData[:,11]\n",
    "\n",
    "print(wineData[:,11])\n",
    "\n"
   ]
  },
  {
   "cell_type": "code",
   "execution_count": 26,
   "id": "82c01197",
   "metadata": {},
   "outputs": [
    {
     "name": "stdout",
     "output_type": "stream",
     "text": [
      "[ 94.   98.   98.  117.6  94.   94.   94.  140.  133.  105. ]\n"
     ]
    }
   ],
   "source": [
    "#quality X alchol\n",
    "print(wineData[:10,-1]*wineData[:10,-2])\n",
    "wineData[:,-1] = wineData[:,-1]*wineData[:,-2]"
   ]
  },
  {
   "cell_type": "code",
   "execution_count": 31,
   "id": "539ddcc0",
   "metadata": {},
   "outputs": [
    {
     "data": {
      "text/plain": [
       "array([[11.2 ,  0.28,  0.56, ...,  0.58,  9.8 ,  6.  ],\n",
       "       [ 7.3 ,  0.65,  0.  , ...,  0.47, 10.  ,  7.  ],\n",
       "       [ 7.8 ,  0.58,  0.02, ...,  0.57,  9.5 ,  7.  ],\n",
       "       ...,\n",
       "       [ 5.9 ,  0.55,  0.1 , ...,  0.76, 11.2 ,  6.  ],\n",
       "       [ 6.3 ,  0.51,  0.13, ...,  0.75, 11.  ,  6.  ],\n",
       "       [ 6.  ,  0.31,  0.47, ...,  0.66, 11.  ,  6.  ]])"
      ]
     },
     "execution_count": 31,
     "metadata": {},
     "output_type": "execute_result"
    }
   ],
   "source": [
    "# which wines have a quality rating higher than 5.\n",
    "wineData[np.where(wineData[:,-1]>5)]"
   ]
  },
  {
   "cell_type": "code",
   "execution_count": 46,
   "id": "1954710a",
   "metadata": {},
   "outputs": [
    {
     "name": "stdout",
     "output_type": "stream",
     "text": [
      "Wine with quality of 10 doesn't exists\n"
     ]
    }
   ],
   "source": [
    "#Check if any wines have a quality rating equal to 10.\n",
    "if(np.where(wineData[:,-1]>=10)[0].size!=0):\n",
    "    print(\"Wine with quality 10 exists\")\n",
    "else: print(\"Wine with quality of 10 doesn't exists\")"
   ]
  },
  {
   "cell_type": "code",
   "execution_count": 71,
   "id": "78734611",
   "metadata": {},
   "outputs": [
    {
     "data": {
      "text/plain": [
       "array([[ 7.3 ,  0.65,  0.  , ...,  0.47, 10.  ,  7.  ],\n",
       "       [ 7.8 ,  0.58,  0.02, ...,  0.57,  9.5 ,  7.  ],\n",
       "       [ 8.5 ,  0.28,  0.56, ...,  0.75, 10.5 ,  7.  ],\n",
       "       ...,\n",
       "       [ 7.4 ,  0.36,  0.3 , ...,  0.7 , 11.4 ,  8.  ],\n",
       "       [ 7.  ,  0.56,  0.17, ...,  0.68, 10.55,  7.  ],\n",
       "       [ 6.7 ,  0.32,  0.44, ...,  0.8 , 11.6 ,  7.  ]])"
      ]
     },
     "execution_count": 71,
     "metadata": {},
     "output_type": "execute_result"
    }
   ],
   "source": [
    "# Select rows in wines where the quality is over 7\n",
    "wineData[np.where(wineData[:,-1]>=7)]"
   ]
  },
  {
   "cell_type": "code",
   "execution_count": 72,
   "id": "05062dfa",
   "metadata": {},
   "outputs": [
    {
     "data": {
      "text/plain": [
       "(array([[ 7.3 ,  0.65,  0.  , ...,  0.47, 10.  ,  7.  ],\n",
       "        [ 8.5 ,  0.28,  0.56, ...,  0.75, 10.5 ,  7.  ],\n",
       "        [ 8.  ,  0.59,  0.16, ...,  0.92, 10.5 ,  7.  ],\n",
       "        ...,\n",
       "        [ 7.4 ,  0.36,  0.3 , ...,  0.7 , 11.4 ,  8.  ],\n",
       "        [ 7.  ,  0.56,  0.17, ...,  0.68, 10.55,  7.  ],\n",
       "        [ 6.7 ,  0.32,  0.44, ...,  0.8 , 11.6 ,  7.  ]]),\n",
       " 2460)"
      ]
     },
     "execution_count": 72,
     "metadata": {},
     "output_type": "execute_result"
    }
   ],
   "source": [
    "x = wineData[(wineData[:,-1]>=7)&(wineData[:,-2]>=10)]\n",
    "x,x.size"
   ]
  },
  {
   "cell_type": "code",
   "execution_count": 76,
   "id": "1a119735",
   "metadata": {},
   "outputs": [
    {
     "name": "stdout",
     "output_type": "stream",
     "text": [
      "[[ 7.4    0.7    0.    ...  0.56   9.4    5.   ]\n",
      " [ 7.8    0.88   0.    ...  0.68   9.8    5.   ]\n",
      " [ 7.8    0.76   0.04  ...  0.65   9.8    5.   ]\n",
      " ...\n",
      " [ 6.3    0.51   0.13  ...  0.75  11.     6.   ]\n",
      " [ 5.9    0.645  0.12  ...  0.71  10.2    5.   ]\n",
      " [ 6.     0.31   0.47  ...  0.66  11.     6.   ]]\n",
      "[[7.40000e+00 7.00000e-01 0.00000e+00 ... 6.60000e+00 5.00000e-01\n",
      "  1.00000e-02]\n",
      " [1.50000e+00 6.00000e-02 1.70000e+01 ... 3.30000e+00 9.60000e-02\n",
      "  2.60000e+01]\n",
      " [6.10000e+01 1.00025e+00 3.60000e+00 ... 4.20000e+01 9.96300e-01\n",
      "  3.10000e+00]\n",
      " ...\n",
      " [2.30000e+00 7.60000e-02 2.30000e+01 ... 1.70000e+00 7.50000e-02\n",
      "  6.00000e+00]\n",
      " [2.50000e+01 9.95810e-01 3.09000e+00 ... 5.30000e+01 9.95800e-01\n",
      "  3.41000e+00]\n",
      " [6.70000e-01 9.70000e+00 5.00000e+00 ... 6.60000e-01 1.10000e+01\n",
      "  6.00000e+00]]\n"
     ]
    }
   ],
   "source": [
    "print(wineData)\n",
    "z = wineData.reshape((12,1599))\n",
    "print(z)"
   ]
  }
 ],
 "metadata": {
  "kernelspec": {
   "display_name": "Python 3 (ipykernel)",
   "language": "python",
   "name": "python3"
  },
  "language_info": {
   "codemirror_mode": {
    "name": "ipython",
    "version": 3
   },
   "file_extension": ".py",
   "mimetype": "text/x-python",
   "name": "python",
   "nbconvert_exporter": "python",
   "pygments_lexer": "ipython3",
   "version": "3.9.7"
  }
 },
 "nbformat": 4,
 "nbformat_minor": 5
}
